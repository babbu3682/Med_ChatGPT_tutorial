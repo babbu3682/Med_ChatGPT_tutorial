{
 "cells": [
  {
   "attachments": {},
   "cell_type": "markdown",
   "metadata": {},
   "source": [
    "[![Open In Colab](https://colab.research.google.com/assets/colab-badge.svg)](https://colab.research.google.com/github/babbu3682/Med_ChatGPT_tutorial/blob/main/Notebook/colab/Hands_On_EDA.ipynb)\n",
    "\n",
    "- ##### '파일' -> '드라이브에 사본 저장' 클릭"
   ]
  },
  {
   "attachments": {},
   "cell_type": "markdown",
   "metadata": {},
   "source": [
    "# 데이터셋 다운로드"
   ]
  },
  {
   "attachments": {},
   "cell_type": "markdown",
   "metadata": {},
   "source": [
    "* kaggle 대회 링크: https://www.kaggle.com/competitions/rsna-breast-cancer-detection/overview\n",
    "* 데이터셋 다운로드 링크: https://drive.google.com/drive/folders/1gSKvZ5BoSIt4Dk_LhdYOoMIBwREcVvwN?usp=sharing"
   ]
  },
  {
   "cell_type": "code",
   "execution_count": 15,
   "metadata": {},
   "outputs": [],
   "source": [
    "# 데이터셋 다운로드 할때 주의할 점:\n",
    "# Med_ChatGPT_tutorial 폴더 자체에서 'Drive에 바로가기 추가' 클릭 --> '모든 위치' --> '내 드라이브' 클릭"
   ]
  },
  {
   "cell_type": "code",
   "execution_count": null,
   "metadata": {},
   "outputs": [],
   "source": [
    "# 필요한 라이브러리 설치\n",
    "!pip install pydicom\n",
    "!pip install SimpleITK\n",
    "!pip install pylibjpeg pylibjpeg-libjpeg pylibjpeg-openjpeg # GDCM 에러 해결"
   ]
  },
  {
   "cell_type": "code",
   "execution_count": null,
   "metadata": {},
   "outputs": [],
   "source": [
    "# 코랩에서 한글깨짐 현상 해결 코드\n",
    "!sudo apt-get install -y fonts-nanum\n",
    "!sudo fc-cache -fv\n",
    "!rm ~/.cache/matplotlib -rf\n",
    "\n",
    "import matplotlib.pyplot as plt # matplotlob import 하기\n",
    "plt.rcParams['font.family'] = 'NanumBarunGothic' # 나눔바른고딕 적용하기"
   ]
  },
  {
   "cell_type": "code",
   "execution_count": null,
   "metadata": {},
   "outputs": [],
   "source": [
    "# pip install 하였으면, 런타임 다시 시작하기!"
   ]
  },
  {
   "attachments": {},
   "cell_type": "markdown",
   "metadata": {},
   "source": [
    "# Dataset files"
   ]
  },
  {
   "attachments": {},
   "cell_type": "markdown",
   "metadata": {},
   "source": [
    "- ##### [train/test]_images/[patient_id]/[image_id].dcm\n",
    "\n",
    "- #### sample_submission.csv \n",
    "\n",
    "- #### [train/test].csv Metadata for each patient and image. "
   ]
  },
  {
   "cell_type": "code",
   "execution_count": null,
   "metadata": {},
   "outputs": [],
   "source": [
    "# google colab과 google drive 연동 (마운트)\n",
    "from google.colab import drive\n",
    "drive.mount('/content/drive')"
   ]
  },
  {
   "cell_type": "code",
   "execution_count": null,
   "metadata": {},
   "outputs": [],
   "source": [
    "# /content에 Med_ChatGPT_tutorial 폴더가 생성됨.\n",
    "!git clone https://github.com/babbu3682/Med_ChatGPT_tutorial.git"
   ]
  },
  {
   "cell_type": "code",
   "execution_count": null,
   "metadata": {},
   "outputs": [],
   "source": [
    "# 정리:\n",
    "# 위의 두 코드를 실행했다면,\n",
    "# 데이터 경로는 /content/drive/MyDrive/Med_ChatGPT_tutorial_Dataset\n",
    "# 코드 경로는 /content/Med_ChatGPT_tutorial"
   ]
  },
  {
   "attachments": {},
   "cell_type": "markdown",
   "metadata": {},
   "source": [
    "# EDA from the given metadata"
   ]
  },
  {
   "cell_type": "code",
   "execution_count": null,
   "metadata": {},
   "outputs": [],
   "source": [
    "import pandas as pd\n",
    "\n",
    "# train csv 불러오기\n",
    "test_data = pd.read_csv(\"/content/Med_ChatGPT_tutorial/dataset/train.csv\")\n",
    "test_data.head()"
   ]
  },
  {
   "cell_type": "code",
   "execution_count": null,
   "metadata": {},
   "outputs": [],
   "source": [
    "# test csv 불러오기\n",
    "test_data = pd.read_csv(\"/content/Med_ChatGPT_tutorial/dataset/test.csv\")\n",
    "test_data.head()"
   ]
  },
  {
   "attachments": {},
   "cell_type": "markdown",
   "metadata": {},
   "source": [
    "- 오로지 Test.csv에 존재하는 변수에 집중!\n",
    "- [site_id / patient_id / image_id / laterality / view / age / implant / machine_id]에 따른 cancer 비율 분석."
   ]
  },
  {
   "cell_type": "code",
   "execution_count": null,
   "metadata": {},
   "outputs": [],
   "source": [
    "'''\n",
    "[Explore Data]\n",
    "===INSTRUCT===\n",
    "데이터 과학자 역할을 맡아 저를 위해 코딩해 주셨으면 합니다.\n",
    "Pandas, Seaborn and Matplotlib을 사용하여 데이터의 패턴과 추세를 파악하는 데이터 탐색 스크립트 코드를 작성해 주세요.\n",
    "Metadata 정보가 담긴 csv 파일이 존재하며, csv 파일을 읽어와서 데이터 탐색을 진행해 주세요.\n",
    "관심변수는 ['site_id', 'patient_id', 'image_id', 'laterality', 'view', 'age', 'implant', 'machine_id', 'caner'] 입니다.\n",
    "관심변수 중 target 변수는 'cancer' 입니다.\n",
    "\n",
    "===INFO===\n",
    "CSV Path: “/content/Med_ChatGPT_tutorial/dataset/train.csv”\n",
    "CSV Description:\n",
    "- site_id: ID code for the source hospital.\n",
    "- patient_id: ID code for the patient.\n",
    "- image_id: ID code for the image.\n",
    "- laterality: Whether the image is of the left or right breast.ㅁ\n",
    "- view: The orientation of the image. The default for a screening exam is to capture two views per breast.\n",
    "- age: The patient's age in years.\n",
    "- implant: Whether or not the patient had breast implants. Site 1 only provides breast implant information at the patient level, not at the breast level.\n",
    "- machine_id: An ID code for the imaging device.\n",
    "- cancer: Whether or not the breast was positive for malignant cancer. The target value. Only provided for train.\n",
    "\n",
    "===TASK===\n",
    "다음의 절차에 따라 \"단계별\"로 오직 관심변수 간의 관계만 탐색합니다.\n",
    "    0. CSV 파일을 읽고 데이터를 로드합니다.\n",
    "    1. 전체 이미지 수를 출력해주세요.\n",
    "    2. 고유 환자 수를 출력해주세요.\n",
    "    3. 고유 이미지 수를 출력해주세요.\n",
    "    4. Statistics: Images per Patient\n",
    "    5. 관심변수의 데이터 타입을 확인하고, 그들의 고유값의 갯수를 확인하세요.\n",
    "    6. 관심변수 각각의 히스토그램을 모두 그려보세요.\n",
    "    7. 각 관심변수에 따른 암 발생률을 모두 그려보세요.\n",
    "    8. 관심변수들의 상관 행렬을 그려보세요.\n",
    "    9. 관심변수들의 산점도 행렬을 그려보세요. cancer에 따라 색을 다르게 표시하세요.\n",
    "'''"
   ]
  },
  {
   "cell_type": "code",
   "execution_count": null,
   "metadata": {},
   "outputs": [],
   "source": [
    "import pandas as pd\n",
    "import seaborn as sns\n",
    "import matplotlib.pyplot as plt\n",
    "\n",
    "# 0. CSV 파일 읽기 및 데이터 로드\n",
    "csv_path = \"/content/Med_ChatGPT_tutorial/dataset/train.csv\"\n",
    "data = pd.read_csv(csv_path)\n",
    "\n",
    "# 1. 전체 이미지 수 출력\n",
    "total_images = data.shape[0]\n",
    "print(\"전체 이미지 수:\", total_images)\n",
    "\n",
    "# 2. 고유한 환자 수 출력\n",
    "unique_patients = data['patient_id'].nunique()\n",
    "print(\"고유한 환자 수:\", unique_patients)\n",
    "\n",
    "# 3. 고유한 이미지 수 출력\n",
    "unique_images = data['image_id'].nunique()\n",
    "print(\"고유한 이미지 수:\", unique_images)\n",
    "\n",
    "# 4. 환자당 이미지 수 통계\n",
    "images_per_patient = data.groupby('patient_id')['image_id'].count()\n",
    "print(\"환자당 이미지 수 통계:\")\n",
    "print(images_per_patient.describe())\n",
    "\n",
    "# 5. 변수의 데이터 타입 및 고유값 수 확인\n",
    "variables_of_interest = ['site_id', 'patient_id', 'image_id', 'laterality', 'view', 'age', 'implant', 'machine_id', 'cancer']\n",
    "for variable in variables_of_interest:\n",
    "    print(\"변수:\", variable)\n",
    "    print(\"데이터 타입:\", data[variable].dtype)\n",
    "    print(\"고유값 수:\", data[variable].nunique())\n",
    "    print()\n",
    "\n",
    "# 6. 각 변수에 대한 히스토그램 그리기\n",
    "data.hist(column=variables_of_interest, figsize=(12, 10))\n",
    "plt.tight_layout()\n",
    "plt.show()\n",
    "\n",
    "# 7. 각 변수에 대한 암 발생률 그래프 그리기\n",
    "for variable in variables_of_interest:\n",
    "    if variable != 'cancer':\n",
    "        plt.figure(figsize=(8, 6))\n",
    "        sns.barplot(x=variable, y='cancer', data=data)\n",
    "        plt.title(f\"Cancer Incidence by {variable}\")\n",
    "        plt.xlabel(variable)\n",
    "        plt.ylabel(\"Cancer Incidence\")\n",
    "        plt.show()\n",
    "\n",
    "# 8. 변수들 간의 상관 행렬 그리기\n",
    "correlation_matrix = data[variables_of_interest].corr()\n",
    "plt.figure(figsize=(10, 8))\n",
    "sns.heatmap(correlation_matrix, annot=True, cmap='coolwarm')\n",
    "plt.title(\"Correlation Matrix\")\n",
    "plt.show()\n",
    "\n",
    "# 9. 변수들 간의 산점도 행렬 그리기 (암 여부에 따라 색상 다르게 표시)\n",
    "sns.pairplot(data, vars=variables_of_interest, hue='cancer', palette='husl')\n",
    "plt.show()\n"
   ]
  },
  {
   "cell_type": "code",
   "execution_count": null,
   "metadata": {},
   "outputs": [],
   "source": [
    "'''\n",
    "[Bug Fix]\n",
    "Identify any logic errors in the following Python code snippet:\n",
    "[\n",
    "  코드 내용 복붙\n",
    "].\n",
    "\n",
    "Further details of the error are as follows:\n",
    "[\n",
    "  오류 내용 복붙\n",
    "]\n",
    "'''"
   ]
  },
  {
   "cell_type": "code",
   "execution_count": null,
   "metadata": {},
   "outputs": [],
   "source": [
    "import pandas as pd\n",
    "import seaborn as sns\n",
    "import matplotlib.pyplot as plt\n",
    "\n",
    "# 0. CSV 파일 읽기 및 데이터 로드\n",
    "csv_path = \"/content/Med_ChatGPT_tutorial/dataset/train.csv\"\n",
    "data = pd.read_csv(csv_path)\n",
    "\n",
    "# 1. 전체 이미지 수 출력\n",
    "total_images = data.shape[0]\n",
    "print(\"전체 이미지 수:\", total_images)\n",
    "\n",
    "# 2. 고유한 환자 수 출력\n",
    "unique_patients = data['patient_id'].nunique()\n",
    "print(\"고유한 환자 수:\", unique_patients)\n",
    "\n",
    "# 3. 고유한 이미지 수 출력\n",
    "unique_images = data['image_id'].nunique()\n",
    "print(\"고유한 이미지 수:\", unique_images)\n",
    "\n",
    "# 4. 환자당 이미지 수 통계\n",
    "images_per_patient = data.groupby('patient_id')['image_id'].count()\n",
    "print(\"환자당 이미지 수 통계:\")\n",
    "print(images_per_patient.describe())\n",
    "\n",
    "# 5. 변수의 데이터 타입 및 고유값 수 확인\n",
    "variables_of_interest = ['site_id', 'patient_id', 'image_id', 'laterality', 'view', 'age', 'implant', 'machine_id', 'cancer']\n",
    "for variable in variables_of_interest:\n",
    "    print(\"변수:\", variable)\n",
    "    print(\"데이터 타입:\", data[variable].dtype)\n",
    "    print(\"고유값 수:\", data[variable].nunique())\n",
    "    print()\n",
    "\n",
    "# 6. 각 변수에 대한 히스토그램 그리기\n",
    "data[variables_of_interest].hist(figsize=(12, 10))\n",
    "plt.tight_layout()\n",
    "plt.show()\n",
    "\n",
    "# 7. 각 변수에 대한 암 발생률 그래프 그리기\n",
    "for variable in variables_of_interest:\n",
    "    if variable != 'cancer':\n",
    "        plt.figure(figsize=(8, 6))\n",
    "        sns.barplot(x=variable, y='cancer', data=data)\n",
    "        plt.title(f\"Cancer Incidence by {variable}\")\n",
    "        plt.xlabel(variable)\n",
    "        plt.ylabel(\"Cancer Incidence\")\n",
    "        plt.show()\n",
    "\n",
    "# 8. 변수들 간의 상관 행렬 그리기\n",
    "correlation_matrix = data[variables_of_interest].corr()\n",
    "plt.figure(figsize=(10, 8))\n",
    "sns.heatmap(correlation_matrix, annot=True, cmap='coolwarm')\n",
    "plt.title(\"Correlation Matrix\")\n",
    "plt.show()\n",
    "\n",
    "# 9. 변수들 간의 산점도 행렬 그리기 (암 여부에 따라 색상 다르게 표시)\n",
    "numeric_variables = ['age']\n",
    "sns.pairplot(data, vars=numeric_variables, hue='cancer', palette='husl')\n",
    "plt.show()\n"
   ]
  },
  {
   "cell_type": "code",
   "execution_count": null,
   "metadata": {},
   "outputs": [],
   "source": [
    "'''\n",
    "[Bug Fix]\n",
    "Identify any logic errors in the following python code snippet:\n",
    "[\n",
    "  코드 내용 복붙\n",
    "].\n",
    "\n",
    "Further details of the error are as follows:\n",
    "[\n",
    "  오류 내용 복붙\n",
    "]\n",
    "\n",
    "Suggestions:\n",
    "[\n",
    "First, check for numeric variables in data and variables_of_interest and exclude those that are not.\n",
    "]\n",
    "'''"
   ]
  },
  {
   "cell_type": "code",
   "execution_count": null,
   "metadata": {},
   "outputs": [],
   "source": [
    "# 귀찮다면,,, AIPRM 활용!!!"
   ]
  },
  {
   "cell_type": "code",
   "execution_count": null,
   "metadata": {},
   "outputs": [],
   "source": [
    "import pandas as pd\n",
    "import seaborn as sns\n",
    "import matplotlib.pyplot as plt\n",
    "\n",
    "# 0. CSV 파일 읽기 및 데이터 로드\n",
    "csv_path = \"/content/Med_ChatGPT_tutorial/dataset/train.csv\"\n",
    "data = pd.read_csv(csv_path)\n",
    "\n",
    "# 1. 전체 이미지 수 출력\n",
    "total_images = data.shape[0]\n",
    "print(\"전체 이미지 수:\", total_images)\n",
    "\n",
    "# 2. 고유한 환자 수 출력\n",
    "unique_patients = data['patient_id'].nunique()\n",
    "print(\"고유한 환자 수:\", unique_patients)\n",
    "\n",
    "# 3. 고유한 이미지 수 출력\n",
    "unique_images = data['image_id'].nunique()\n",
    "print(\"고유한 이미지 수:\", unique_images)\n",
    "\n",
    "# 4. 환자당 이미지 수 통계\n",
    "images_per_patient = data.groupby('patient_id')['image_id'].count()\n",
    "print(\"환자당 이미지 수 통계:\")\n",
    "print(images_per_patient.describe())\n",
    "\n",
    "# 5. 변수의 데이터 타입 및 고유값 수 확인\n",
    "variables_of_interest = ['site_id', 'patient_id', 'image_id', 'laterality', 'view', 'age', 'implant', 'machine_id', 'cancer']\n",
    "numeric_variables = []\n",
    "for variable in variables_of_interest:\n",
    "    if data[variable].dtype in ['int64', 'float64']:\n",
    "        numeric_variables.append(variable)\n",
    "    print(\"변수:\", variable)\n",
    "    print(\"데이터 타입:\", data[variable].dtype)\n",
    "    print(\"고유값 수:\", data[variable].nunique())\n",
    "    print()\n",
    "\n",
    "# 6. 각 변수에 대한 히스토그램 그리기\n",
    "data.hist(column=numeric_variables, figsize=(12, 10))\n",
    "plt.tight_layout()\n",
    "plt.show()\n",
    "\n",
    "# 7. 각 변수에 대한 암 발생률 그래프 그리기\n",
    "for variable in variables_of_interest:\n",
    "    if variable != 'cancer':\n",
    "        plt.figure(figsize=(8, 6))\n",
    "        sns.barplot(x=variable, y='cancer', data=data)\n",
    "        plt.title(f\"Cancer Incidence by {variable}\")\n",
    "        plt.xlabel(variable)\n",
    "        plt.ylabel(\"Cancer Incidence\")\n",
    "        plt.show()\n",
    "\n",
    "# 8. 변수들 간의 상관 행렬 그리기\n",
    "correlation_matrix = data[numeric_variables].corr()\n",
    "plt.figure(figsize=(10, 8))\n",
    "sns.heatmap(correlation_matrix, annot=True, cmap='coolwarm')\n",
    "plt.title(\"Correlation Matrix\")\n",
    "plt.show()\n",
    "\n",
    "# 9. 변수들 간의 산점도 행렬 그리기 (암 여부에 따라 색상 다르게 표시)\n",
    "sns.pairplot(data, vars=numeric_variables, hue='cancer', palette='husl')\n",
    "plt.show()\n"
   ]
  },
  {
   "cell_type": "code",
   "execution_count": null,
   "metadata": {},
   "outputs": [],
   "source": [
    "'''\n",
    "'연령'별 암 발생률 차트의 x축의 정보가 너무 겹쳐서 식별되지 않습니다. 해당 차트만 좀 더 크고 선명하게 그려주실 수 있나요?\n",
    "'''"
   ]
  },
  {
   "cell_type": "code",
   "execution_count": null,
   "metadata": {},
   "outputs": [],
   "source": [
    "# 'age'에 대한 암 발생률 그래프 그리기 (크고 선명하게)\n",
    "plt.figure(figsize=(12, 8))  # 큰 캔버스 생성\n",
    "sns.barplot(x='age', y='cancer', data=data) # 검은색 bar는 신뢰구간을 나타냄 일반적으로 95% 신뢰구간을 나타낸다.\n",
    "plt.title(\"Cancer Incidence by Age\")\n",
    "plt.xlabel(\"Age\")\n",
    "plt.ylabel(\"Cancer Incidence\")\n",
    "plt.xticks(rotation=45)  # x축 라벨 회전\n",
    "plt.tight_layout()\n",
    "plt.show()"
   ]
  },
  {
   "cell_type": "code",
   "execution_count": null,
   "metadata": {},
   "outputs": [],
   "source": [
    "'''\n",
    "'연령'에 따른 연령 히스토그램과 '연령'별 암 발생률 차트를 같이 비교하고 싶습니다. 같이 보여주시겠어요? x축의 정보를 식별되게 그려주세요.\n",
    "'''"
   ]
  },
  {
   "cell_type": "code",
   "execution_count": null,
   "metadata": {},
   "outputs": [],
   "source": [
    "plt.figure(figsize=(12, 8))  # 큰 캔버스 생성\n",
    "\n",
    "# 나이 히스토그램 그리기\n",
    "plt.subplot(2, 1, 1)  # 2행 1열 중 첫 번째 subplot\n",
    "sns.histplot(data['age'], bins=20, kde=True)\n",
    "plt.title(\"Age Histogram\")\n",
    "plt.xlabel(\"Age\")\n",
    "plt.ylabel(\"Count\")\n",
    "\n",
    "# 암 발생률 그래프 그리기\n",
    "plt.subplot(2, 1, 2)  # 2행 1열 중 두 번째 subplot\n",
    "sns.barplot(x='age', y='cancer', data=data)\n",
    "plt.title(\"Cancer Incidence by Age\")\n",
    "plt.xlabel(\"Age\")\n",
    "plt.ylabel(\"Cancer Incidence\")\n",
    "plt.xticks(rotation=45)  # x축 라벨 회전\n",
    "\n",
    "plt.tight_layout()\n",
    "plt.show()\n"
   ]
  },
  {
   "attachments": {},
   "cell_type": "markdown",
   "metadata": {},
   "source": [
    "# EDA from the dicom images"
   ]
  },
  {
   "attachments": {},
   "cell_type": "markdown",
   "metadata": {},
   "source": [
    "### CSV에 Path 삽입"
   ]
  },
  {
   "cell_type": "code",
   "execution_count": null,
   "metadata": {},
   "outputs": [],
   "source": [
    "# 앞서 kaggle 홈페이지에 image 경로를 다음과 같은 방식으로 지정하였다: [train/test]_images/[patient_id]/[image_id].dcm \n",
    "# csv에 path를 추가하여 image를 불러오는 방식을 적용해보자."
   ]
  },
  {
   "cell_type": "code",
   "execution_count": null,
   "metadata": {},
   "outputs": [],
   "source": [
    "'''\n",
    "[Explore Data]\n",
    "===INSTRUCT===\n",
    "파이썬 코더가 되어 저를 위해 코딩해 주세요.\n",
    "데이터프레임이 이미 존재하며, 변수 이름은 'data' 입니다.\n",
    "'data'에 이미지의 'path'열을 추가하려고 합니다.\n",
    "\n",
    "===INFO===\n",
    "data_dir = '/content/drive/MyDrive/Med_ChatGPT_tutorial_Dataset'\n",
    "\n",
    "===TASK===\n",
    "다음 절차에 따라 단계별로 진행해주세요.\n",
    "    0. 데이터 프레임 변수 'data'에 'path'열을 생성합니다. \n",
    "    1. path는 다음과 같은 방식으로 이루어져있습니다: data_dir/train_images/{patient_id}/{image_id}.dcm\n",
    "    2. 'path'열을 생성한 후, 'path'열을 출력해주세요.\n",
    "'''"
   ]
  },
  {
   "cell_type": "code",
   "execution_count": null,
   "metadata": {},
   "outputs": [],
   "source": [
    "# 데이터프레임 'data'에 'path' 컬럼 추가\n",
    "data['path'] = data_dir + \"/train_images/\" + data['patient_id'].astype(str) + \"/\" + data['image_id'].astype(str) + \".dcm\"\n",
    "\n",
    "# 'path' 컬럼 출력\n",
    "print(data['path'])\n"
   ]
  },
  {
   "cell_type": "code",
   "execution_count": null,
   "metadata": {},
   "outputs": [],
   "source": [
    "\"버그 Fix\""
   ]
  },
  {
   "cell_type": "code",
   "execution_count": null,
   "metadata": {},
   "outputs": [],
   "source": [
    "# 데이터 디렉토리 정의\n",
    "data_dir = '/content/drive/MyDrive/Med_ChatGPT_tutorial_Dataset'\n",
    "\n",
    "# 데이터프레임 'data'에 'path' 컬럼 추가\n",
    "data['path'] = data_dir + \"/train_images/\" + data['patient_id'].astype(str) + \"/\" + data['image_id'].astype(str) + \".dcm\"\n",
    "\n",
    "# 'path' 컬럼 출력\n",
    "print(data['path'])\n"
   ]
  },
  {
   "attachments": {},
   "cell_type": "markdown",
   "metadata": {},
   "source": [
    "### train, valid, test split"
   ]
  },
  {
   "cell_type": "code",
   "execution_count": null,
   "metadata": {},
   "outputs": [],
   "source": [
    "'''\n",
    "[Explore Data]\n",
    "===INSTRUCT===\n",
    "파이썬 코더가 되어 저를 위해 코딩해 주세요.\n",
    "데이터프레임이 이미 존재하며, 변수 이름은 'data' 입니다.\n",
    "'data'를 'train', 'valid', 'test'로 나누려고 합니다.\n",
    "\n",
    "===INFO===\n",
    "data_dir = '/content/drive/MyDrive/Med_ChatGPT_tutorial_Dataset'\n",
    "\n",
    "===TASK===\n",
    "다음 절차에 따라 단계별로 진행해주세요.\n",
    "    0. 데이터 프레임 'data'를 'train', 'valid', 'test'로 나눕니다. 비율은 8 대 1 대 1입니다.\n",
    "    1. 분할된 'train', 'valid', 'test' 데이터 프레임에 'mode' 열을 생성하여 'train', 'valid', 'test'를 표시합니다.\n",
    "    2. 'rsna_data.csv'라는 하나의 데이터 프레임으로 연결합니다.\n",
    "    3. 'rsna_data.csv'를 'data_dir' 변수에 저장합니다.\n",
    "    4. 해당 CSV 파일을 다시 로드합니다.\n",
    "'''"
   ]
  },
  {
   "cell_type": "code",
   "execution_count": null,
   "metadata": {},
   "outputs": [],
   "source": [
    "from sklearn.model_selection import train_test_split\n",
    "\n",
    "# 데이터 프레임 'data'를 'train', 'valid', 'test'로 분리합니다. 비율은 8 대 1 대 1입니다.\n",
    "train, temp = train_test_split(data, test_size=0.2, random_state=42)\n",
    "valid, test = train_test_split(temp, test_size=0.5, random_state=42)\n",
    "\n",
    "# 분리된 'train', 'valid', 'test' 데이터 프레임에 'mode' 컬럼을 생성하여 'train', 'valid', 'test'를 표시합니다.\n",
    "train['mode'] = 'train'\n",
    "valid['mode'] = 'valid'\n",
    "test['mode'] = 'test'\n",
    "\n",
    "# 이들을 'rsna_data'라는 하나의 데이터 프레임으로 연결합니다.\n",
    "rsna_data = pd.concat([train, valid, test])\n",
    "\n",
    "# 'rsna_data.csv'를 'data_dir' 변수에 저장합니다.\n",
    "rsna_data.to_csv(data_dir + '/rsna_data.csv', index=False)\n",
    "\n",
    "# 해당 CSV 파일을 다시 로드합니다.\n",
    "rsna_data = pd.read_csv(data_dir + '/rsna_data.csv')"
   ]
  },
  {
   "attachments": {},
   "cell_type": "markdown",
   "metadata": {},
   "source": [
    "### dicom 파싱"
   ]
  },
  {
   "cell_type": "code",
   "execution_count": null,
   "metadata": {},
   "outputs": [],
   "source": [
    "import pydicom\n",
    "# read the dicom file\n",
    "dicom_data = pydicom.dcmread(rsna_data['path'].iloc[0])\n",
    "dicom_data"
   ]
  },
  {
   "cell_type": "code",
   "execution_count": null,
   "metadata": {},
   "outputs": [],
   "source": [
    "# Rows, Columns, Pixel Spacing, Bits Allocated, Bits Stored, Window Center, Window Width, Rescale Intercept, Rescale Slope, Rescale Type"
   ]
  },
  {
   "cell_type": "code",
   "execution_count": null,
   "metadata": {},
   "outputs": [],
   "source": [
    "# Rows: 영상의 높이\n",
    "# Columns: 영상의 너비\n",
    "# Pixel Spacing: 두 픽셀 중심 사이의 실제(물리적) 거리를 나타냅니다. (단위는 mm)\n",
    "# Bits Allocated: 한 픽셀에 할당된 비트 수\n",
    "# Bits Stored: 실제로 사용되는 비트 수\n",
    "# Window Center: pixel display range의 중심 값\n",
    "# Window Width: pixel display range의 너비\n",
    "# Rescale Intercept: pixel 값 스케일링에 사용되는 절편 값 (실제 pixel 값은 (stored pixel value) * rescale slope + rescale intercept 공식을 통해 계산된다.) SimpleITK는 자동으로 계산되지만, pydicom은 따로 계산 해줘야 한다.\n",
    "# Rescale Slope: pixel 값 스케일링에 사용되는 기울기 값\n",
    "# Rescale Type: Rescale Intercept와 Rescale Slope의 단위나 메소드를 설명"
   ]
  },
  {
   "cell_type": "code",
   "execution_count": null,
   "metadata": {},
   "outputs": [],
   "source": [
    "'''\n",
    "[Explore Data]\n",
    "===INSTRUCT===\n",
    "데이터 과학자 역할을 맡아 저를 위해 코딩해 주셨으면 합니다.\n",
    "dicom 파일을 파싱하고 파싱한 정보를 List에 stack 해주세요.\n",
    "데이터프레임 변수 'rsna_data'의 'path'열에는 dicom 파일 경로가 포함되어 있습니다.\n",
    "dicom 이미지에서 분석된 모든 정보를 데이터프레임 변수 'dicom_data'에 저장해주세요.\n",
    "\n",
    "===TASK===\n",
    "알고자 하는 데이터의 특징은 다음과 같습니다: \n",
    "\t1. Rows\n",
    "\t2. Columns\n",
    "\t3. Pixel Spacing \n",
    "\t4. Bits Allocated\n",
    "\t5. Bits Stored\n",
    "\t6. Window Center\n",
    "\t7. Window Width\n",
    "\t8. Rescale Intercept\n",
    "\t9. Rescale Slope\n",
    "\t10. Rescale Type\n",
    "'''"
   ]
  },
  {
   "cell_type": "code",
   "execution_count": null,
   "metadata": {},
   "outputs": [],
   "source": [
    "import pydicom\n",
    "import pandas as pd\n",
    "\n",
    "# 빈 리스트 생성\n",
    "dicom_list = []\n",
    "\n",
    "# DICOM 파일 정보를 읽어오는 함수\n",
    "def read_dicom(path):\n",
    "    dcm = pydicom.dcmread(path)\n",
    "    return [dcm.Rows, dcm.Columns, dcm.PixelSpacing, dcm.BitsAllocated, \n",
    "            dcm.BitsStored, dcm.WindowCenter, dcm.WindowWidth, \n",
    "            dcm.RescaleIntercept, dcm.RescaleSlope, dcm.RescaleType]\n",
    "\n",
    "# rsna_data의 'path' 컬럼의 모든 DICOM 파일을 순회하면서 정보를 추출합니다.\n",
    "for path in rsna_data['path'][:100:10]:\n",
    "    dicom_info = read_dicom(path)\n",
    "    dicom_list.append(dicom_info)\n",
    "\n",
    "# 추출된 정보를 데이터프레임으로 변환합니다.\n",
    "dicom_data = pd.DataFrame(dicom_list, columns=['Rows', 'Columns', 'Pixel Spacing', \n",
    "                                               'Bits Allocated', 'Bits Stored', 'Window Center', \n",
    "                                               'Window Width', 'Rescale Intercept', \n",
    "                                               'Rescale Slope', 'Rescale Type'])\n",
    "\n",
    "dicom_data\n"
   ]
  },
  {
   "cell_type": "code",
   "execution_count": null,
   "metadata": {},
   "outputs": [],
   "source": [
    "'''Bug Fix'''"
   ]
  },
  {
   "cell_type": "code",
   "execution_count": null,
   "metadata": {},
   "outputs": [],
   "source": [
    "import pydicom\n",
    "import pandas as pd\n",
    "\n",
    "# 빈 리스트 생성\n",
    "dicom_list = []\n",
    "\n",
    "# DICOM 파일 정보를 읽어오는 함수\n",
    "def read_dicom(path):\n",
    "    dcm = pydicom.dcmread(path)\n",
    "    return [dcm.Rows if 'Rows' in dcm else None,\n",
    "            dcm.Columns if 'Columns' in dcm else None,\n",
    "            dcm.PixelSpacing if 'PixelSpacing' in dcm else None,\n",
    "            dcm.BitsAllocated if 'BitsAllocated' in dcm else None,\n",
    "            dcm.BitsStored if 'BitsStored' in dcm else None,\n",
    "            dcm.WindowCenter if 'WindowCenter' in dcm else None,\n",
    "            dcm.WindowWidth if 'WindowWidth' in dcm else None,\n",
    "            dcm.RescaleIntercept if 'RescaleIntercept' in dcm else None,\n",
    "            dcm.RescaleSlope if 'RescaleSlope' in dcm else None,\n",
    "            dcm.RescaleType if 'RescaleType' in dcm else None]\n",
    "\n",
    "# rsna_data의 'path' 컬럼의 모든 DICOM 파일을 순회하면서 정보를 추출합니다.\n",
    "for path in rsna_data['path'][:100:10]:\n",
    "    dicom_info = read_dicom(path)\n",
    "    dicom_list.append(dicom_info)\n",
    "\n",
    "# 추출된 정보를 데이터프레임으로 변환합니다.\n",
    "dicom_data = pd.DataFrame(dicom_list, columns=['Rows', 'Columns', 'Pixel Spacing', \n",
    "                                               'Bits Allocated', 'Bits Stored', 'Window Center', \n",
    "                                               'Window Width', 'Rescale Intercept', \n",
    "                                               'Rescale Slope', 'Rescale Type'])\n",
    "\n",
    "dicom_data\n"
   ]
  },
  {
   "cell_type": "code",
   "execution_count": null,
   "metadata": {},
   "outputs": [],
   "source": [
    "# dicom_data'를 csv 형식으로 저장하는 코드와 이를 로드하는 코드를 작성해주세요. 저장할 경로는 'data_dir'에 'dicom_data.csv'라는 이름으로 저장해주세요."
   ]
  },
  {
   "cell_type": "code",
   "execution_count": null,
   "metadata": {},
   "outputs": [],
   "source": [
    "# 'dicom_data'를 CSV 형식으로 저장합니다.\n",
    "dicom_data.to_csv(data_dir + '/dicom_data.csv', index=False)\n",
    "\n",
    "# 'dicom_data.csv'를 로드합니다.\n",
    "loaded_dicom_data = pd.read_csv(data_dir + '/dicom_data.csv')\n"
   ]
  },
  {
   "cell_type": "code",
   "execution_count": null,
   "metadata": {},
   "outputs": [],
   "source": [
    "# describe 메소드는 이미 위에서 다룸...\n",
    "\n",
    "dicom_data.describe()"
   ]
  },
  {
   "cell_type": "code",
   "execution_count": null,
   "metadata": {},
   "outputs": [],
   "source": [
    "dicom_data['Window Center'].describe()"
   ]
  },
  {
   "cell_type": "code",
   "execution_count": null,
   "metadata": {},
   "outputs": [],
   "source": [
    "dicom_data['Window Width'].describe()"
   ]
  },
  {
   "cell_type": "code",
   "execution_count": null,
   "metadata": {},
   "outputs": [],
   "source": [
    "# 고찰: \n",
    "# 1. Pixel Spacing에 None값이 보인다. --> 이미지의 가로 세로가 다른 이미지가 존재한다. --> Resize나 Crop 필수...!\n",
    "# 2. Window setting 값이 다른 이미지가 존재"
   ]
  },
  {
   "attachments": {},
   "cell_type": "markdown",
   "metadata": {},
   "source": [
    "### (Bonus) 이미지 전처리 차이! (Pydicom vs SimpleITK)"
   ]
  },
  {
   "attachments": {},
   "cell_type": "markdown",
   "metadata": {},
   "source": [
    "##### 참고: https://www.kaggle.com/gzuidhof/full-preprocessing-tutorial, https://ballentain.tistory.com/53"
   ]
  },
  {
   "cell_type": "code",
   "execution_count": null,
   "metadata": {},
   "outputs": [],
   "source": [
    "# read the dicom file\n",
    "dicom_data = pydicom.dcmread(rsna_data['path'].iloc[0])\n",
    "dicom_data"
   ]
  },
  {
   "cell_type": "code",
   "execution_count": null,
   "metadata": {},
   "outputs": [],
   "source": [
    "# 수정할 DICOM 파일 경로\n",
    "file_path = \"/content/Med_ChatGPT_tutorial/dataset/saved_dicom.dcm\"\n",
    "\n",
    "# DICOM 이미지 로드\n",
    "dicom_data = pydicom.dcmread(rsna_data['path'].iloc[0])\n",
    "dicom_data.save_as(\"/content/Med_ChatGPT_tutorial/original.dcm\")\n",
    "\n",
    "# DICOM 속성 수정\n",
    "dicom_data.RescaleIntercept= 1024.0\n",
    "dicom_data.RescaleSlope = 4.0\n",
    "\n",
    "# DICOM 파일 저장\n",
    "modified_file_path = \"/content/Med_ChatGPT_tutorial/modified_dicom.dcm\"\n",
    "dicom_data.save_as(modified_file_path)\n",
    "\n",
    "print(\"DICOM 파일 수정 및 저장이 완료되었습니다.\")\n",
    "print(\"수정된 파일 경로:\", modified_file_path)\n"
   ]
  },
  {
   "cell_type": "code",
   "execution_count": null,
   "metadata": {},
   "outputs": [],
   "source": [
    "# simpleITK\n",
    "image1 = sitk.ReadImage(\"/content/Med_ChatGPT_tutorial/modified_dicom.dcm\")\n",
    "image_array1 = sitk.GetArrayFromImage(image1)\n",
    "\n",
    "# pydicom\n",
    "image2 = pydicom.dcmread(\"/content/Med_ChatGPT_tutorial/modified_dicom.dcm\")\n",
    "image_array2 = image2.pixel_array"
   ]
  },
  {
   "cell_type": "code",
   "execution_count": null,
   "metadata": {},
   "outputs": [],
   "source": [
    "image_array1"
   ]
  },
  {
   "cell_type": "code",
   "execution_count": null,
   "metadata": {},
   "outputs": [],
   "source": [
    "image_array2"
   ]
  },
  {
   "cell_type": "code",
   "execution_count": null,
   "metadata": {},
   "outputs": [],
   "source": [
    "# (실제 pixel 값은 (stored pixel value) * rescale slope + rescale intercept 공식을 통해 계산된다.) SimpleITK는 자동으로 계산되지만, pydicom은 따로 계산 해줘야 한다."
   ]
  },
  {
   "cell_type": "code",
   "execution_count": null,
   "metadata": {},
   "outputs": [],
   "source": [
    "import time\n",
    "\n",
    "# pydicom\n",
    "start = time.time()\n",
    "ds = pydicom.dcmread('/content/Med_ChatGPT_tutorial/modified_dicom.dcm')\n",
    "end = time.time()\n",
    "print(f'pydicom 로딩 시간: {end - start} 초')\n",
    "\n",
    "# SimpleITK\n",
    "start = time.time()\n",
    "image = sitk.ReadImage('/content/Med_ChatGPT_tutorial/modified_dicom.dcm')\n",
    "end = time.time()\n",
    "print(f'SimpleITK 로딩 시간: {end - start} 초')\n"
   ]
  },
  {
   "cell_type": "code",
   "execution_count": null,
   "metadata": {},
   "outputs": [],
   "source": [
    "# pydicom이 더 가벼운 라이브러리 -> 단순히 dicom 파일의 로딩과 편집에 집중\n",
    "# SimpleITK는 각종 의료 이미지 전처리를 추가적으로 포함하고 있어 기능이 더 많다.\n",
    "# 즉, 단순히 DICOM 파일을 읽고 쓰는 작업이 필요하다면 pydicom이 더 적절하며, 영상 처리 기능이 필요하다면 SimpleITK가 더 적합."
   ]
  },
  {
   "cell_type": "code",
   "execution_count": null,
   "metadata": {},
   "outputs": [],
   "source": [
    "'''\n",
    "[Code Generation]\n",
    "===INSTRUCT===\n",
    "Pydicom 전문가 역할을 맡아 저를 위해 코딩해 주셨으면 합니다.\n",
    "Pydicom 라이브러리에서 'modality'와 'VOI(Value Of Interest)'의 룩업테이블을 이용하여 pixel 값을 조정해주는 메소드가 있는지 확인해주세요.\n",
    "\n",
    "===TASK===\n",
    "다음 절차에 따라 단계별로 진행해주세요:\n",
    "  1. 코드를 생성해주세요.\n",
    "  2. 각 코드가 어떤 기능을 하는지 주석을 달아주세요.\n",
    "  3. 사용 예시를 제공해주세요.\n",
    "'''"
   ]
  },
  {
   "cell_type": "code",
   "execution_count": null,
   "metadata": {},
   "outputs": [],
   "source": [
    "import pydicom\n",
    "from pydicom.pixel_data_handlers.util import apply_modality_lut, apply_voi_lut\n",
    "\n",
    "# DICOM 파일 로드\n",
    "dcm = pydicom.dcmread('/content/Med_ChatGPT_tutorial/modified_dicom.dcm')\n",
    "\n",
    "# 'Modality' lookup table 적용\n",
    "data = apply_modality_lut(dcm.pixel_array, dcm)     # RescaleSlope * pixel_array + RescaleIntercept\n",
    "print(\"apply_modality_lut 결과 == \")\n",
    "print(data)\n",
    "\n",
    "# 'VOI' lookup table 적용\n",
    "data = apply_voi_lut(data, dcm)     # Windowing 적용\n",
    "print(\"apply_voi_lut 결과 == \")\n",
    "print(data)\n"
   ]
  },
  {
   "attachments": {},
   "cell_type": "markdown",
   "metadata": {},
   "source": [
    "### 룩업테이블 차이 비교"
   ]
  },
  {
   "cell_type": "code",
   "execution_count": null,
   "metadata": {},
   "outputs": [],
   "source": [
    "import pydicom\n",
    "from pydicom.pixel_data_handlers.util import apply_modality_lut, apply_voi_lut\n",
    "\n",
    "# DICOM 파일 읽기\n",
    "dicom_data = pydicom.dcmread(rsna_data['path'].iloc[100])\n",
    "\n",
    "# 모달리티 룩업 테이블 적용\n",
    "a = apply_modality_lut(dicom_data.pixel_array, dicom_data)  \n",
    "                                                                                                                        \n",
    "# VOI 룩업 테이블 적용\n",
    "b = apply_voi_lut(a, dicom_data)                            "
   ]
  },
  {
   "cell_type": "code",
   "execution_count": null,
   "metadata": {},
   "outputs": [],
   "source": [
    "plt.imshow(a, 'gray')\n",
    "print(\"Just pixel_array         = \", dicom_data.pixel_array.max(), dicom_data.pixel_array.min())\n",
    "print(\"After apply_modality_lut = \", a.max(), a.min())\n",
    "plt.title('pixel array image')"
   ]
  },
  {
   "attachments": {
    "image.png": {
     "image/png": "[encoded data removed]"
    }
   },
   "cell_type": "markdown",
   "metadata": {},
   "source": [
    "![image.png](attachment:image.png)"
   ]
  },
  {
   "cell_type": "code",
   "execution_count": null,
   "metadata": {},
   "outputs": [],
   "source": [
    "plt.imshow(b, 'gray')\n",
    "print(\"After apply_modality_lut = \", a.max(), a.min())\n",
    "print(\"After apply_voi_lut      = \", b.max(), b.min())\n",
    "plt.title('voi image')"
   ]
  },
  {
   "attachments": {
    "image.png": {
     "image/png": "[encoded data removed]"
    }
   },
   "cell_type": "markdown",
   "metadata": {},
   "source": [
    "![image.png](attachment:image.png)"
   ]
  },
  {
   "attachments": {},
   "cell_type": "markdown",
   "metadata": {},
   "source": [
    "### sample들 랜덤하게 plot 해보기"
   ]
  },
  {
   "cell_type": "code",
   "execution_count": null,
   "metadata": {},
   "outputs": [],
   "source": [
    "import matplotlib.pyplot as plt\n",
    "\n",
    "for i in range(0, len(rsna_data), 100):\n",
    "  dicom_data = pydicom.dcmread(rsna_data['path'][i])\n",
    "\n",
    "  # 'Modality' lookup table 적용\n",
    "  data = apply_modality_lut(dicom_data.pixel_array, dcm)\n",
    "\n",
    "  # 'VOI' lookup table 적용\n",
    "  data = apply_voi_lut(data, dcm)\n",
    "\n",
    "  plt.imshow(data, 'gray')\n",
    "  plt.title(\"cancer=\" + str(rsna_data['cancer'][i]))\n",
    "  plt.show()"
   ]
  },
  {
   "cell_type": "code",
   "execution_count": null,
   "metadata": {},
   "outputs": [],
   "source": [
    "# apply_voi_lut 빼기 \n",
    "\n",
    "import matplotlib.pyplot as plt\n",
    "\n",
    "for i in range(0, len(rsna_data), 100):\n",
    "  dicom_data = pydicom.dcmread(rsna_data['path'][i])\n",
    "\n",
    "  # 'Modality' lookup table 적용\n",
    "  data = apply_modality_lut(dicom_data.pixel_array, dcm)\n",
    "\n",
    "  plt.imshow(data, 'gray')\n",
    "  plt.title(\"cancer=\" + str(rsna_data['cancer'][i]))\n",
    "  plt.show()"
   ]
  },
  {
   "attachments": {},
   "cell_type": "markdown",
   "metadata": {},
   "source": [
    "# - 고찰\n",
    "\n",
    "- 나이에 따라서 영향을 미칠수있다.                 -> 마지막 classifier에 age를 주입?\n",
    "- L, R에 편견이 없다.                             -> horizontal augmentation 사용 가능.\n",
    "- 배경과 전경에 intensity 반전에 강건해야 한다.     -> Invert augmentation으로 해결 가능.\n",
    "- apply_voi_lut는 이번 task에서는 고려해봐야 한다. -> 빼자...\n"
   ]
  }
 ],
 "metadata": {
  "kernelspec": {
   "display_name": "Python 3",
   "language": "python",
   "name": "python3"
  },
  "language_info": {
   "codemirror_mode": {
    "name": "ipython",
    "version": 3
   },
   "file_extension": ".py",
   "mimetype": "text/x-python",
   "name": "python",
   "nbconvert_exporter": "python",
   "pygments_lexer": "ipython3",
   "version": "3.8.10"
  },
  "toc": {
   "base_numbering": 1,
   "nav_menu": {},
   "number_sections": true,
   "sideBar": true,
   "skip_h1_title": false,
   "title_cell": "Table of Contents",
   "title_sidebar": "Contents",
   "toc_cell": false,
   "toc_position": {
    "height": "calc(100% - 180px)",
    "left": "10px",
    "top": "150px",
    "width": "349.091px"
   },
   "toc_section_display": true,
   "toc_window_display": true
  },
  "varInspector": {
   "cols": {
    "lenName": 16,
    "lenType": 16,
    "lenVar": 40
   },
   "kernels_config": {
    "python": {
     "delete_cmd_postfix": "",
     "delete_cmd_prefix": "del ",
     "library": "var_list.py",
     "varRefreshCmd": "print(var_dic_list())"
    },
    "r": {
     "delete_cmd_postfix": ") ",
     "delete_cmd_prefix": "rm(",
     "library": "var_list.r",
     "varRefreshCmd": "cat(var_dic_list()) "
    }
   },
   "types_to_exclude": [
    "module",
    "function",
    "builtin_function_or_method",
    "instance",
    "_Feature"
   ],
   "window_display": false
  }
 },
 "nbformat": 4,
 "nbformat_minor": 4
}
