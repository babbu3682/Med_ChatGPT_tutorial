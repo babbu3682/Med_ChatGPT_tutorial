{
 "cells": [
  {
   "attachments": {},
   "cell_type": "markdown",
   "metadata": {},
   "source": [
    "[![Open In Colab](https://colab.research.google.com/assets/colab-badge.svg)](https://colab.research.google.com/github/babbu3682/Med_ChatGPT_tutorial/blob/main/Notebook/Template_EDA.ipynb)"
   ]
  },
  {
   "attachments": {},
   "cell_type": "markdown",
   "metadata": {},
   "source": [
    "# Dataset files"
   ]
  },
  {
   "attachments": {},
   "cell_type": "markdown",
   "metadata": {},
   "source": [
    "- ##### [train/test]_images/[patient_id]/[image_id].dcm\n",
    "  - The mammograms, in dicom format. \n",
    "  - You can expect roughly 8,000 patients in the hidden test set.\n",
    "  - There are usually but not always 4 images per patient. \n",
    "  - Note that many of the images use the jpeg 2000 format which may you may need special libraries to load.\n",
    "#\n",
    "- #### sample_submission.csv \n",
    "  - A valid sample submission.Only the first few rows are available for download.\n",
    "#\n",
    "- #### [train/test].csv Metadata for each patient and image. \n",
    "  - site_id - ID code for the source hospital.\n",
    "  - patient_id - ID code for the patient.\n",
    "  - image_id - ID code for the image.\n",
    "  - laterality - Whether the image is of the left or right breast.\n",
    "  - view - The orientation of the image. The default for a screening exam is to capture two views per breast.\n",
    "  - age - The patient's age in years.\n",
    "  - implant - Whether or not the patient had breast implants. Site 1 only provides breast implant information at the patient level, not at the breast level.\n",
    "  - density - A rating for how dense the breast tissue is, with A being the least dense and D being the most dense. Extremely dense tissue can make diagnosis more difficult. Only provided for train.\n",
    "  - machine_id - An ID code for the imaging device.\n",
    "  - cancer - Whether or not the breast was positive for malignant cancer. The target value. Only provided for train.\n",
    "  - biopsy - Whether or not a follow-up biopsy was performed on the breast. Only provided for train.\n",
    "  - invasive - If the breast is positive for cancer, whether or not the cancer proved to be invasive. Only provided for train.\n",
    "  - BIRADS - 0 if the breast required follow-up, 1 if the breast was rated as negative for cancer, and 2 if the breast was rated as normal. Only provided for train.\n",
    "  - prediction_id - The ID for the matching submission row. Multiple images will share the same prediction ID. Test only.\n",
    "  - difficult_negative_case - True if the case was unusually difficult. Only provided for train."
   ]
  },
  {
   "cell_type": "code",
   "execution_count": 1,
   "metadata": {},
   "outputs": [
    {
     "name": "stdout",
     "output_type": "stream",
     "text": [
      "/workspace/sunggu/7.Mentor/Med_ChatGPT_tutorial\n"
     ]
    }
   ],
   "source": [
    "cd /workspace/sunggu/7.Mentor/Med_ChatGPT_tutorial/"
   ]
  },
  {
   "cell_type": "code",
   "execution_count": null,
   "metadata": {},
   "outputs": [],
   "source": [
    "!pip install -U kaggle"
   ]
  },
  {
   "cell_type": "code",
   "execution_count": null,
   "metadata": {},
   "outputs": [],
   "source": [
    "# 환경 변수 설정\n",
    "import os\n",
    "\n",
    "os.environ['KAGGLE_USERNAME'] = '...'\n",
    "os.environ['KAGGLE_KEY']      = '...'\n",
    "\n",
    "# 데이터셋 다운로드\n",
    "!kaggle competitions download -c rsna-breast-cancer-detection -p /workspace/sunggu/data/RSNA2023/a"
   ]
  },
  {
   "attachments": {},
   "cell_type": "markdown",
   "metadata": {},
   "source": [
    "# EDA from the given csv"
   ]
  },
  {
   "cell_type": "code",
   "execution_count": null,
   "metadata": {},
   "outputs": [],
   "source": [
    "'''\n",
    "[Explore Data]\n",
    "I want you to act as a data scientist and code for me. I have a csv file of [Mammography Breast Cancer dataset]. Please write code for data exploration scripts that identify patterns and trends in data using [Pandas, Seaborn and Matplotlib]. \n",
    "\n",
    "Here is my data information.\n",
    "\n",
    "===INFO===\n",
    "Path: “/workspace/sunggu/0.Challenge/Med_tutorial_ChatGPT/dataset/train.csv”\n",
    "Description: \n",
    "“\n",
    "- [train/test].csv Metadata for each patient and image. \n",
    "  - site_id - ID code for the source hospital.\n",
    "  - patient_id - ID code for the patient.\n",
    "  - image_id - ID code for the image.\n",
    "  - laterality - Whether the image is of the left or right breast.\n",
    "  - view - The orientation of the image. The default for a screening exam is to capture two views per breast.\n",
    "  - age - The patient's age in years.\n",
    "  - implant - Whether or not the patient had breast implants. Site 1 only provides breast implant information at the patient level, not at the breast level.\n",
    "  - density - A rating for how dense the breast tissue is, with A being the least dense and D being the most dense. Extremely dense tissue can make diagnosis more difficult. Only provided for train.\n",
    "  - machine_id - An ID code for the imaging device.\n",
    "  - cancer - Whether or not the breast was positive for malignant cancer. The target value. Only provided for train.\n",
    "  - biopsy - Whether or not a follow-up biopsy was performed on the breast. Only provided for train.\n",
    "  - invasive - If the breast is positive for cancer, whether or not the cancer proved to be invasive. Only provided for train.\n",
    "  - BIRADS - 0 if the breast required follow-up, 1 if the breast was rated as negative for cancer, and 2 if the breast was rated as normal. Only provided for train.\n",
    "  - prediction_id - The ID for the matching submission row. Multiple images will share the same prediction ID. Test only.\n",
    "  - difficult_negative_case - True if the case was unusually difficult. Only provided for train.\n",
    "”\n",
    "\n",
    "Explore the relationship between each variable step by step using the following procedure.\n",
    "    0. Print csv head or summary defining train_data\n",
    "    1. Check the data type and number of nuique of each variable.\n",
    "    2. Plot a histogram for each variable (kde=True).\n",
    "    3. Boxplot for between a target variable and age variable.\n",
    "    4. Check the variable type whether it is a numeric or categorical variable\n",
    "    5. Correlation Matrix for only numeric variable (ax.xaxis.tick_top())\n",
    "    6. Scatterplot matrix for only numeric variable (hue='cancer')\n",
    "'''"
   ]
  },
  {
   "cell_type": "code",
   "execution_count": null,
   "metadata": {},
   "outputs": [],
   "source": [
    "# Step 0.\n",
    "\n",
    "# CSV 파일 불러오기\n",
    "\n",
    "# CSV 파일의 헤드 출력\n",
    "\n",
    "# 또는 CSV 파일의 요약 정보 출력\n",
    "\n",
    "# Step 1.\n",
    "\n",
    "# 변수 목록\n",
    "\n",
    "# 각 변수의 데이터 타입과 고유값 개수 출력\n",
    "\n",
    "# Step 2.\n",
    "\n",
    "# 변수 목록\n",
    "\n",
    "# 히스토그램 그리기\n",
    "\n",
    "# Step 3.\n",
    "\n",
    "# 타겟 변수와 나이 변수\n",
    "\n",
    "# 박스 플롯 그리기\n",
    "\n",
    "# Step 4.\n",
    "\n",
    "# 변수 유형 확인\n",
    "\n",
    "# Step 5.\n",
    "\n",
    "# 숫자형 변수만 선택\n",
    "\n",
    "# 상관 행렬 출력\n",
    "\n",
    "# Step 6.\n",
    "\n",
    "# 숫자형 변수만 선택\n",
    "\n",
    "# 산점도 행렬 그리기\n"
   ]
  },
  {
   "cell_type": "code",
   "execution_count": null,
   "metadata": {},
   "outputs": [],
   "source": [
    "'''\n",
    "[Bug Fix]\n",
    "Identify any logic errors in the following [python] code snippet: \n",
    "[Line No. 43, sns.heatmap(data.corr(), annot=True, cmap='coolwarm')].\n",
    "\n",
    "Further details of the error are as follows:\n",
    "[ValueError: could not convert string to float: 'L']\n",
    "\n",
    "Suggestions: \n",
    "[I think you should check the data type of each variable whether it is not a string. If the variable is a string, the variable is excepted.]\n",
    "'''"
   ]
  },
  {
   "cell_type": "code",
   "execution_count": null,
   "metadata": {},
   "outputs": [],
   "source": [
    "# test csv 불러오기\n",
    "test_data = pd.read_csv(\"/workspace/sunggu/7.Mentor/Med_ChatGPT_tutorial/dataset/test.csv\")\n",
    "test_data.head()"
   ]
  },
  {
   "attachments": {},
   "cell_type": "markdown",
   "metadata": {},
   "source": [
    "- TEST에 집중.\n",
    "- [laterality / view / age / implant]에 따른 cancer 비율 분석"
   ]
  },
  {
   "cell_type": "code",
   "execution_count": null,
   "metadata": {},
   "outputs": [],
   "source": [
    "'''\n",
    "Explore the relationship only among [laterality, view, age, implant] variable step by step using the following procedure.\n",
    "    1. Check the data type and number of nuique of each variable.\n",
    "    2. Examine cancer rates by each factor using pandas\n",
    "    3. Correlation Matrix (ax.xaxis.tick_top())\n",
    "    4. Scatterplot matrix (hue='cancer')\n",
    "'''"
   ]
  },
  {
   "cell_type": "code",
   "execution_count": null,
   "metadata": {},
   "outputs": [],
   "source": [
    "# Step 1.\n",
    "\n",
    "# 변수 목록\n",
    "\n",
    "# 각 변수의 데이터 타입과 고유값 개수 출력\n",
    "\n",
    "# Step 2.\n",
    "\n",
    "# 암 발생률 확인\n",
    "\n",
    "# Step 3.\n",
    "\n",
    "# 암 발생률 확인\n",
    "\n",
    "# Step 4.\n",
    "\n",
    "# 변수 선택\n",
    "\n",
    "# 선택된 변수들에 대한 상관 행렬 계산\n",
    "\n",
    "# 상관 행렬 시각화\n"
   ]
  },
  {
   "cell_type": "code",
   "execution_count": null,
   "metadata": {},
   "outputs": [],
   "source": [
    "'''\n",
    "[Explore Data]\n",
    "I want you to act as a data scientist and code for me. \n",
    "I have a DataFrame variable called “train_data”. Please write code for data exploration scripts using [Pandas, Seaborn, and Matplotlib].\n",
    "\n",
    "===INFO===\n",
    "data_dir = '/workspace/sunggu/0.Challenge/Med_tutorial_ChatGPT/dataset'\n",
    "train_image = 'train_images'\n",
    "\n",
    "Explore data analysis for demography step by step using the following procedure.\n",
    "  1. Number of TOTAL images, \n",
    "  2. Total unique patients, \n",
    "  3. Total unique images,\n",
    "  4. Statistics: Images per Patient,\n",
    "  5. Image records count per laterality,\n",
    "  6. Image records count per view,\n",
    "'''"
   ]
  },
  {
   "cell_type": "code",
   "execution_count": null,
   "metadata": {},
   "outputs": [],
   "source": [
    "# 데이터 경로와 파일명\n",
    "\n",
    "# 1. 전체 이미지 수\n",
    "\n",
    "# 2. 고유한 환자 수\n",
    "\n",
    "# 3. 고유한 이미지 수\n",
    "\n",
    "# 4. 환자별 이미지 통계\n",
    "\n",
    "# 5. 좌우 여백별 이미지 레코드 수\n",
    "\n",
    "# 6. 이미지 방향별 이미지 레코드 수\n"
   ]
  },
  {
   "attachments": {
    "image.png": {
     "image/png": "[encoded data removed]"
    }
   },
   "cell_type": "markdown",
   "metadata": {},
   "source": [
    "![image.png](attachment:image.png)\n",
    "\n",
    "### http://med_physics.i-do.science/topics/diagnose_breast/"
   ]
  },
  {
   "cell_type": "code",
   "execution_count": null,
   "metadata": {},
   "outputs": [],
   "source": [
    "# axillary tail (AT)\n",
    "# craniocaudal  (CC) \n",
    "# lateromedial  (LM)\n",
    "# lateromedial oblique (LMO)\n",
    "# mediolateral  (ML)\n",
    "# mediolateral oblique (MLO)"
   ]
  },
  {
   "attachments": {},
   "cell_type": "markdown",
   "metadata": {},
   "source": [
    "# CSV에 Path 삽입, train/valid split"
   ]
  },
  {
   "cell_type": "code",
   "execution_count": null,
   "metadata": {},
   "outputs": [],
   "source": [
    "'''\n",
    "[Complete the python code]\n",
    "I want you to act as a coder in Python and code for me. \n",
    "\n",
    "===INFO===\n",
    "data_dir = '/workspace/sunggu/0.Challenge/Med_tutorial_ChatGPT/dataset'\n",
    "train_image = 'train_images'\n",
    "\n",
    "Please conduct step by step using the following procedure.\n",
    "    1. create a path column in train_data and test_data which are dataframe. The path consists of a combination of 'patient_id' and 'image_id' in train_data: \"{data_dir}/train_image/{patient_id}/{image_id} +.dcm”\n",
    "    2. split the train into train and valid. The ratio is 8 to 2.\n",
    "    3. 'mode' colume is created in train_data and test_data. The mode is 'train', 'valid', 'test'.\n",
    "    4. concatenate train, valid into one dataframe called 'rsna_data.csv'.\n",
    "    5. create code for loading the csv file.\n",
    "'''"
   ]
  },
  {
   "cell_type": "code",
   "execution_count": null,
   "metadata": {},
   "outputs": [],
   "source": [
    "# 데이터 디렉토리 경로 및 train 이미지 폴더 설정\n",
    "\n",
    "# 1. train_data에 path 열 생성\n",
    "\n",
    "# 2. train을 train, valid, test로 분할 (비율: 8:1:1)\n",
    "\n",
    "# 분할 결과 확인\n",
    "\n",
    "# 3. train_data와 valid_data에 mode 열 생성\n",
    "\n",
    "# 4. train_data와 valid_data를 연결하여 rsna_data.csv 파일 생성\n",
    "\n",
    "# 5. CSV 파일을 로드하는 코드 작성"
   ]
  },
  {
   "attachments": {},
   "cell_type": "markdown",
   "metadata": {},
   "source": [
    "# EDA from the dicom"
   ]
  },
  {
   "cell_type": "code",
   "execution_count": null,
   "metadata": {},
   "outputs": [],
   "source": [
    "# read the dicom file\n",
    "dicom_data = pydicom.dcmread(train_data['path'].iloc[0])\n",
    "dicom_data"
   ]
  },
  {
   "cell_type": "code",
   "execution_count": null,
   "metadata": {},
   "outputs": [],
   "source": [
    "'''\n",
    "[Explore Data]\n",
    "I want you to act as a data scientist and code for me. \n",
    "Please parse the the dicom files and stack the information for dataframe.\n",
    "Please use the multiprocessing for quick parsing.\n",
    "save all the information parsed from the dicom images into list format.\n",
    "\n",
    "===INFO===\n",
    "data_dir = '/workspace/sunggu/0.Challenge/Med_tutorial_ChatGPT/dataset'\n",
    "dataframe variable = train_data (including dicom image path)\n",
    "\n",
    "Here's the distribution of what we want to know: \n",
    "\t1. image shape, \n",
    "\t2. min and max intensity of image,\n",
    "\t3. Rescale Type, \n",
    "\t4. VOI LUT Function\n",
    "\t5. Window Center\n",
    "    6. Window Width\n",
    "'''"
   ]
  },
  {
   "cell_type": "code",
   "execution_count": null,
   "metadata": {},
   "outputs": [],
   "source": [
    "# def parse_dicom 선언\n",
    "\n",
    "# multiprocessing을 이용한 DICOM 이미지 파일 파싱\n",
    "\n",
    "# DICOM 이미지 경로 가져오기\n",
    "\n",
    "# DICOM 이미지 파일 파싱 및 정보 추출\n",
    "\n",
    "# 추출한 정보로 데이터프레임 생성\n",
    "\n",
    "# parsed_df 데이터프레임 저장\n"
   ]
  },
  {
   "cell_type": "code",
   "execution_count": null,
   "metadata": {},
   "outputs": [],
   "source": [
    "parsed_df['window_center'].value_counts()"
   ]
  },
  {
   "cell_type": "code",
   "execution_count": null,
   "metadata": {},
   "outputs": [],
   "source": [
    "parsed_df['window_width'].value_counts()"
   ]
  },
  {
   "cell_type": "code",
   "execution_count": null,
   "metadata": {},
   "outputs": [],
   "source": [
    "print(parsed_df['rescale_type'].value_counts())"
   ]
  },
  {
   "cell_type": "code",
   "execution_count": null,
   "metadata": {},
   "outputs": [],
   "source": [
    "print(parsed_df['image_shape'].value_counts())"
   ]
  },
  {
   "cell_type": "code",
   "execution_count": null,
   "metadata": {},
   "outputs": [],
   "source": [
    "print(parsed_df['voi_lut_function'].value_counts())"
   ]
  },
  {
   "cell_type": "code",
   "execution_count": null,
   "metadata": {},
   "outputs": [],
   "source": [
    "parsed_df.describe()"
   ]
  },
  {
   "attachments": {},
   "cell_type": "markdown",
   "metadata": {},
   "source": [
    "### 참고: https://www.kaggle.com/gzuidhof/full-preprocessing-tutorial, https://ballentain.tistory.com/53"
   ]
  },
  {
   "cell_type": "code",
   "execution_count": null,
   "metadata": {},
   "outputs": [],
   "source": [
    "# read the dicom file\n",
    "dicom_data = pydicom.dcmread(train_data['path'].iloc[0])\n",
    "dicom_data"
   ]
  },
  {
   "cell_type": "code",
   "execution_count": null,
   "metadata": {},
   "outputs": [],
   "source": [
    "'''\n",
    "I want you to act as a data scientist and code for me. \n",
    "Please generate code for preprocessing DICOM images using the apply_modality_lut and apply_voi_lut functions in the pidicom.pixel_data_handlers.util module.\n",
    "\t1. Apply the modality lookup table using the apply_modality_lut function. The first factor of the function passes the dicom_data.pixel_array, and the second factor passes the dicom_data. The results are stored in variable a.\n",
    "\t2. Apply the VOI lookup table using the apply_voi_lut function. The first factor of the function passes the variable a, and the second factor passes the icon_data. The results are stored in variable b.\n",
    "'''"
   ]
  },
  {
   "cell_type": "code",
   "execution_count": null,
   "metadata": {},
   "outputs": [],
   "source": [
    "# DICOM 파일 읽기\n",
    "\n",
    "# 모달리티 룩업 테이블 적용\n",
    "\n",
    "# VOI 룩업 테이블 적용"
   ]
  },
  {
   "cell_type": "code",
   "execution_count": null,
   "metadata": {},
   "outputs": [],
   "source": [
    "plt.imshow(a, 'gray')\n",
    "print(\"Just pixel_array         = \", dicom_data.pixel_array.max(), dicom_data.pixel_array.min())\n",
    "print(\"After apply_modality_lut = \", a.max(), a.min())\n",
    "plt.title('pixel array image')"
   ]
  },
  {
   "cell_type": "code",
   "execution_count": null,
   "metadata": {},
   "outputs": [],
   "source": [
    "plt.imshow(b, 'gray')\n",
    "print(\"After apply_modality_lut = \", a.max(), a.min())\n",
    "print(\"After apply_voi_lut      = \", b.max(), b.min())\n",
    "plt.title('voi image')"
   ]
  },
  {
   "attachments": {},
   "cell_type": "markdown",
   "metadata": {},
   "source": [
    "# - 고찰\n",
    "\n",
    "- 나이에 따라서 영향을 미칠수있다.                 -> 마지막 classifier에 연결? \n",
    "- L, R에 편견이 없다.                            -> horizontal augmentation 사용 가능.\n",
    "- 배경과 전경에 intensity 반전에 강건해야 한다.    -> Invert augmentation으로 해결 가능.\n",
    "- intensity outlier 제외                         -> percentile로 outlier pixel value 제거\n"
   ]
  },
  {
   "cell_type": "code",
   "execution_count": 8,
   "metadata": {},
   "outputs": [
    {
     "ename": "SyntaxError",
     "evalue": "invalid syntax (4281647478.py, line 1)",
     "output_type": "error",
     "traceback": [
      "\u001b[0;36m  Cell \u001b[0;32mIn[8], line 1\u001b[0;36m\u001b[0m\n\u001b[0;31m    [![Open In Colab](https://colab.research.google.com/assets/colab-badge.svg)](https://colab.research.google.com/github/Project-MONAI/tutorials/blob/main/3d_segmentation/brats_segmentation_3d.ipynb)]\u001b[0m\n\u001b[0m     ^\u001b[0m\n\u001b[0;31mSyntaxError\u001b[0m\u001b[0;31m:\u001b[0m invalid syntax\n"
     ]
    }
   ],
   "source": [
    "[![Open In Colab](https://colab.research.google.com/assets/colab-badge.svg)](https://colab.research.google.com/github/Project-MONAI/tutorials/blob/main/3d_segmentation/brats_segmentation_3d.ipynb)]"
   ]
  },
  {
   "attachments": {},
   "cell_type": "markdown",
   "metadata": {},
   "source": [
    "# Set Dataset"
   ]
  },
  {
   "cell_type": "code",
   "execution_count": null,
   "metadata": {},
   "outputs": [],
   "source": [
    "cd /workspace/sunggu/0.Challenge/Med_tutorial_ChatGPT/"
   ]
  },
  {
   "cell_type": "code",
   "execution_count": null,
   "metadata": {},
   "outputs": [],
   "source": [
    "'''\n",
    "[Define Dataset]\n",
    "I want you to act as a coder in Python and code for me. \n",
    "Please help with creating the dataset class that process image processing and augmentation based on binary classification deep learning framework.\n",
    "\n",
    "===INFO===\n",
    "data_dir = '/workspace/sunggu/0.Challenge/Med_tutorial_ChatGPT/dataset'\n",
    "csv_file = 'rsna_data.csv'\n",
    "target_class = 'cancer'\n",
    "\n",
    "Code for creating the RSNA breast cancer dataset class called \"RSNA_Dataset\". \n",
    "This code is a custom dataset class that inherits \"Dataset\" from PyTorch. \n",
    "The dataset can be initialized in either \"train\" or \"valid\" mode and reads the file path and label information from the corresponding CSV file.\n",
    "\n",
    "Each entry in the dataset is defined as follows:\n",
    "- Read the DICOM file using the image path.\n",
    "- Apply the Modality Lookup Table (LUT) and Value of Interest (VOI) LUT for the pixel array in the DICOM file.\n",
    "- Returns the read image and the corresponding label.\n",
    "\n",
    "In addition to the dataset class, we define an compose transform function that performs data preprocessing and augmentation through the \"get_transforms\" function using Albumentation Library. \n",
    "\n",
    "Please conduct step by step using the following procedure.\n",
    "\t1. In the training mode, perform image resizing (224x224), minmax normalization, change_to_uint8, Contrast Limited Adaptive Histogram Equation (CLAHE), change_to_float32, horizontal flip, brightness and contrast adjustment, Shift-Scale-Rotate conversion, image inversion, minmax normalization, and tensor conversion. \n",
    "    2. In validation mode, perform image resizing (224x224), minmax normalization, change_to_uint8, fixed CLAHE, change_to_float32, minmax normalization, and tensor conversion. \n",
    "\t3. Finally, create \"train_dataset\" and \"valid_dataset\" and create a DataLoader that loads them into \"train_loader\" and \"valid_loader\". \"train_loader\" and \"valid_loader\" can be used for training and validation.\n",
    "'''"
   ]
  },
  {
   "cell_type": "code",
   "execution_count": null,
   "metadata": {},
   "outputs": [],
   "source": [
    "class RSNA_Dataset(Dataset):\n",
    "    def __init__(self, data_dir, csv_file, target_class, mode=\"train\"):\n",
    "        self.data_dir = data_dir\n",
    "        self.csv_file = csv_file\n",
    "        self.target_class = target_class\n",
    "        self.mode = mode\n",
    "\n",
    "        # CSV 파일에서 데이터 로드\n",
    "        \n",
    "        # 해당하는 모드에 따라 데이터 필터링\n",
    "\n",
    "        # Albumentations 변환 함수 정의\n",
    "\n",
    "    def __len__(self):\n",
    "        return len(self.filtered_df)\n",
    "\n",
    "    def __getitem__(self, idx):\n",
    "        # 이미지 경로 및 라벨 가져오기\n",
    "\n",
    "        # DICOM 파일 읽기 및 처리\n",
    "\n",
    "        # 라벨을 Tensor로 변환\n",
    "\n",
    "        # 채널 차원 추가\n",
    "\n",
    "        # Albumentations 변환 수행Asan1357\n",
    "\n",
    "        return image, label\n",
    "\n",
    "    def get_transforms(self):\n",
    "        if self.mode == \"train\":\n",
    "            return A.Compose([\n",
    "                # Preprocessing\n",
    "                \n",
    "                # Augmentation\n",
    "\n",
    "                # Normalize\n",
    "            ])\n",
    "        else:\n",
    "            return A.Compose([\n",
    "                # Preprocessing\n",
    "\n",
    "                # Normalize\n",
    "            ])\n"
   ]
  },
  {
   "cell_type": "code",
   "execution_count": null,
   "metadata": {},
   "outputs": [],
   "source": [
    "# 학습용 데이터셋 생성\n",
    "\n",
    "# 검증용 데이터셋 생성\n",
    "\n",
    "# DataLoader 생성\n"
   ]
  },
  {
   "cell_type": "code",
   "execution_count": null,
   "metadata": {},
   "outputs": [],
   "source": [
    "# train sample data 확인\n",
    "import matplotlib.pyplot as plt\n",
    "\n",
    "for i in range(10):\n",
    "    plt.imshow(t_image[i][0], 'gray')\n",
    "    plt.show()\n",
    "\n",
    "    print(t_image[i][0].max(), t_image[i][0].min())"
   ]
  },
  {
   "cell_type": "code",
   "execution_count": null,
   "metadata": {},
   "outputs": [],
   "source": [
    "# valid sample data 확인\n",
    "import matplotlib.pyplot as plt\n",
    "\n",
    "for i in range(10):\n",
    "    plt.imshow(v_image[i][0], 'gray')\n",
    "    plt.show()\n",
    "\n",
    "    print(v_image[i][0].max(), v_image[i][0].min())"
   ]
  },
  {
   "cell_type": "code",
   "execution_count": null,
   "metadata": {},
   "outputs": [],
   "source": []
  }
 ],
 "metadata": {
  "kernelspec": {
   "display_name": "Python 3",
   "language": "python",
   "name": "python3"
  },
  "language_info": {
   "codemirror_mode": {
    "name": "ipython",
    "version": 3
   },
   "file_extension": ".py",
   "mimetype": "text/x-python",
   "name": "python",
   "nbconvert_exporter": "python",
   "pygments_lexer": "ipython3",
   "version": "3.8.10"
  },
  "toc": {
   "base_numbering": 1,
   "nav_menu": {},
   "number_sections": true,
   "sideBar": true,
   "skip_h1_title": false,
   "title_cell": "Table of Contents",
   "title_sidebar": "Contents",
   "toc_cell": false,
   "toc_position": {
    "height": "calc(100% - 180px)",
    "left": "10px",
    "top": "150px",
    "width": "349.091px"
   },
   "toc_section_display": true,
   "toc_window_display": true
  },
  "varInspector": {
   "cols": {
    "lenName": 16,
    "lenType": 16,
    "lenVar": 40
   },
   "kernels_config": {
    "python": {
     "delete_cmd_postfix": "",
     "delete_cmd_prefix": "del ",
     "library": "var_list.py",
     "varRefreshCmd": "print(var_dic_list())"
    },
    "r": {
     "delete_cmd_postfix": ") ",
     "delete_cmd_prefix": "rm(",
     "library": "var_list.r",
     "varRefreshCmd": "cat(var_dic_list()) "
    }
   },
   "types_to_exclude": [
    "module",
    "function",
    "builtin_function_or_method",
    "instance",
    "_Feature"
   ],
   "window_display": false
  }
 },
 "nbformat": 4,
 "nbformat_minor": 4
}
